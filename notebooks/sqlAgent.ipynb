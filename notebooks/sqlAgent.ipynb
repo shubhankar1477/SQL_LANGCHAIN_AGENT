{
 "cells": [
  {
   "cell_type": "code",
   "execution_count": 1,
   "metadata": {},
   "outputs": [
    {
     "data": {
      "text/plain": [
       "True"
      ]
     },
     "execution_count": 1,
     "metadata": {},
     "output_type": "execute_result"
    }
   ],
   "source": [
    "from dotenv import find_dotenv,load_dotenv\n",
    "from langchain_openai import AzureChatOpenAI\n",
    "\n",
    "\n",
    "load_dotenv(find_dotenv())"
   ]
  },
  {
   "cell_type": "code",
   "execution_count": 2,
   "metadata": {},
   "outputs": [],
   "source": [
    "model = AzureChatOpenAI(deployment_name=\"\", model_name=\"\", temperature=0,\n",
    "                                     model_version=\"\",\n",
    "                                     openai_api_version=\"\",azure_endpoint = '' \n",
    "                                     )"
   ]
  },
  {
   "cell_type": "code",
   "execution_count": 3,
   "metadata": {},
   "outputs": [],
   "source": [
    "from langchain_community.utilities import SQLDatabase"
   ]
  },
  {
   "cell_type": "code",
   "execution_count": 5,
   "metadata": {},
   "outputs": [],
   "source": [
    "db = SQLDatabase.from_uri(database_uri=\"sqlite:///database.db\")"
   ]
  },
  {
   "cell_type": "code",
   "execution_count": 8,
   "metadata": {},
   "outputs": [
    {
     "name": "stdout",
     "output_type": "stream",
     "text": [
      "sqlite\n",
      "['tourism']\n",
      "[(0, 'Northern', 'Delhi', 'Delhi', 'India Gate', 'War Memorial', '1921', 0.5, 4.6, 0, 'Yes', None, 'Historical', 'Yes', 2.6, 'Evening'), (1, 'Northern', 'Delhi', 'Delhi', \"Humayun's Tomb\", 'Tomb', '1572', 2.0, 4.5, 30, 'Yes', None, 'Historical', 'Yes', 0.4, 'Afternoon'), (2, 'Northern', 'Delhi', 'Delhi', 'Akshardham Temple', 'Temple', '2005', 5.0, 4.6, 60, 'Yes', None, 'Religious', 'No', 0.4, 'Afternoon'), (3, 'Northern', 'Delhi', 'Delhi', 'Waste to Wonder Park', 'Theme Park', '2019', 2.0, 4.1, 50, 'Yes', 'Monday', 'Environmental', 'Yes', 0.27, 'Evening'), (4, 'Northern', 'Delhi', 'Delhi', 'Jantar Mantar', 'Observatory', '1724', 2.0, 4.2, 15, 'Yes', None, 'Scientific', 'Yes', 0.31, 'Morning'), (5, 'Northern', 'Delhi', 'Delhi', 'Chandni Chowk', 'Market', '1700', 3.0, 4.2, 0, 'Yes', 'Sunday', 'Market', 'Yes', 0.25, 'Afternoon'), (6, 'Northern', 'Delhi', 'Delhi', 'Lotus Temple', 'Temple', '1986', 1.0, 4.5, 0, 'Yes', 'Monday', 'Religious', 'Yes', 0.59, 'Evening'), (7, 'Northern', 'Delhi', 'Delhi', 'Red Fort', 'Fort', '1648', 2.0, 4.5, 35, 'Yes', None, 'Historical', 'Yes', 1.5, 'Afternoon'), (8, 'Northern', 'Delhi', 'Delhi', 'Agrasen ki Baoli', 'Stepwell', '1400', 1.0, 4.2, 0, 'Yes', None, 'Historical', 'Yes', 0.41, 'Afternoon'), (9, 'Northern', 'Delhi', 'Delhi', 'Sunder Nursery', 'Park', '1600', 2.0, 4.6, 0, 'Yes', None, 'Botanical', 'Yes', 0.16, 'Afternoon')]\n"
     ]
    }
   ],
   "source": [
    "print(db.dialect)\n",
    "print(db.get_usable_table_names())\n",
    "print(db.run(\"select * from tourism limit 10\"))"
   ]
  },
  {
   "cell_type": "code",
   "execution_count": 14,
   "metadata": {},
   "outputs": [
    {
     "data": {
      "text/plain": [
       "'SELECT COUNT(DISTINCT \"City\") FROM tourism'"
      ]
     },
     "execution_count": 14,
     "metadata": {},
     "output_type": "execute_result"
    }
   ],
   "source": [
    "from langchain.chains import create_sql_query_chain\n",
    "chain = create_sql_query_chain(model,db)\n",
    "response = chain.invoke({\"question\":\"How many Cities are there?\"})\n",
    "response"
   ]
  },
  {
   "cell_type": "code",
   "execution_count": 15,
   "metadata": {},
   "outputs": [
    {
     "data": {
      "text/plain": [
       "'[(214,)]'"
      ]
     },
     "execution_count": 15,
     "metadata": {},
     "output_type": "execute_result"
    }
   ],
   "source": [
    "db.run(response.replace(\"\\n\",\"\"))"
   ]
  },
  {
   "cell_type": "code",
   "execution_count": 12,
   "metadata": {},
   "outputs": [
    {
     "name": "stdout",
     "output_type": "stream",
     "text": [
      "You are a SQLite expert. Given an input question, first create a syntactically correct SQLite query to run, then look at the results of the query and return the answer to the input question.\n",
      "Unless the user specifies in the question a specific number of examples to obtain, query for at most \u001b[33;1m\u001b[1;3m{top_k}\u001b[0m results using the LIMIT clause as per SQLite. You can order the results to return the most informative data in the database.\n",
      "Never query for all columns from a table. You must query only the columns that are needed to answer the question. Wrap each column name in double quotes (\") to denote them as delimited identifiers.\n",
      "Pay attention to use only the column names you can see in the tables below. Be careful to not query for columns that do not exist. Also, pay attention to which column is in which table.\n",
      "Pay attention to use date('now') function to get the current date, if the question involves \"today\".\n",
      "\n",
      "Use the following format:\n",
      "\n",
      "Question: Question here\n",
      "SQLQuery: SQL Query to run\n",
      "SQLResult: Result of the SQLQuery\n",
      "Answer: Final answer here\n",
      "\n",
      "Only use the following tables:\n",
      "\u001b[33;1m\u001b[1;3m{table_info}\u001b[0m\n",
      "\n",
      "Question: \u001b[33;1m\u001b[1;3m{input}\u001b[0m\n"
     ]
    }
   ],
   "source": [
    "chain.get_prompts()[0].pretty_print()"
   ]
  },
  {
   "cell_type": "markdown",
   "metadata": {},
   "source": [
    "### Execute query using tool"
   ]
  },
  {
   "cell_type": "code",
   "execution_count": 13,
   "metadata": {},
   "outputs": [
    {
     "data": {
      "text/plain": [
       "'[(214,)]'"
      ]
     },
     "execution_count": 13,
     "metadata": {},
     "output_type": "execute_result"
    }
   ],
   "source": [
    "from langchain_community.tools.sql_database.tool import QuerySQLDataBaseTool\n",
    "execute_query = QuerySQLDataBaseTool(db=db)\n",
    "query = create_sql_query_chain(model,db)\n",
    "chain = query | execute_query\n",
    "chain.invoke({\"question\":\"How many Cities there?\"})\n"
   ]
  },
  {
   "cell_type": "markdown",
   "metadata": {},
   "source": [
    "### Agent"
   ]
  },
  {
   "cell_type": "code",
   "execution_count": 23,
   "metadata": {},
   "outputs": [
    {
     "name": "stdout",
     "output_type": "stream",
     "text": [
      "\n",
      "\n",
      "\u001b[1m> Entering new AgentExecutor chain...\u001b[0m\n",
      "\u001b[32;1m\u001b[1;3mAction: sql_db_list_tables\n",
      "Action Input: \"\"\u001b[0m\n",
      "Observation: \u001b[38;5;200m\u001b[1;3mtourism\u001b[0m\n",
      "Thought:\u001b[32;1m\u001b[1;3mThe \"tourism\" table seems relevant. I should query its schema to see what columns are available.\n",
      "Action: sql_db_schema\n",
      "Action Input: tourism\u001b[0m\n",
      "Observation: \u001b[33;1m\u001b[1;3m\n",
      "CREATE TABLE tourism (\n",
      "\t\"Unnamed: 0\" INTEGER, \n",
      "\t\"Zone\" TEXT, \n",
      "\t\"State\" TEXT, \n",
      "\t\"City\" TEXT, \n",
      "\t\"Name\" TEXT, \n",
      "\t\"Type\" TEXT, \n",
      "\t\"Establishment Year\" TEXT, \n",
      "\t\"time needed to visit in hrs\" REAL, \n",
      "\t\"Google review rating\" REAL, \n",
      "\t\"Entrance Fee in INR\" INTEGER, \n",
      "\t\"Airport with 50km Radius\" TEXT, \n",
      "\t\"Weekly Off\" TEXT, \n",
      "\t\"Significance\" TEXT, \n",
      "\t\"DSLR Allowed\" TEXT, \n",
      "\t\"Number of google review in lakhs\" REAL, \n",
      "\t\"Best Time to visit\" TEXT\n",
      ")\n",
      "\n",
      "/*\n",
      "3 rows from tourism table:\n",
      "Unnamed: 0\tZone\tState\tCity\tName\tType\tEstablishment Year\ttime needed to visit in hrs\tGoogle review rating\tEntrance Fee in INR\tAirport with 50km Radius\tWeekly Off\tSignificance\tDSLR Allowed\tNumber of google review in lakhs\tBest Time to visit\n",
      "0\tNorthern\tDelhi\tDelhi\tIndia Gate\tWar Memorial\t1921\t0.5\t4.6\t0\tYes\tNone\tHistorical\tYes\t2.6\tEvening\n",
      "1\tNorthern\tDelhi\tDelhi\tHumayun's Tomb\tTomb\t1572\t2.0\t4.5\t30\tYes\tNone\tHistorical\tYes\t0.4\tAfternoon\n",
      "2\tNorthern\tDelhi\tDelhi\tAkshardham Temple\tTemple\t2005\t5.0\t4.6\t60\tYes\tNone\tReligious\tNo\t0.4\tAfternoon\n",
      "*/\u001b[0m\n",
      "Thought:\u001b[32;1m\u001b[1;3mThe \"tourism\" table has the relevant columns for this question. I can query the \"City\" and \"Significance\" columns to get the cities with a rating higher than 4 and significance as historical or religious.\n",
      "Action: sql_db_query\n",
      "Action Input: SELECT City FROM tourism WHERE `Google review rating` > 4 AND Significance IN ('Historical', 'Religious') LIMIT 10\u001b[0m\n",
      "Observation: \u001b[36;1m\u001b[1;3m[('Delhi',), ('Delhi',), ('Delhi',), ('Delhi',), ('Delhi',), ('Delhi',), ('Delhi',), ('Mumbai',), ('Mumbai',), ('Mumbai',)]\u001b[0m\n",
      "Thought:\u001b[32;1m\u001b[1;3mThe cities with a rating higher than 4 and significance as historical or religious are Delhi and Mumbai.\n",
      "Final Answer: Delhi, Mumbai\u001b[0m\n",
      "\n",
      "\u001b[1m> Finished chain.\u001b[0m\n"
     ]
    },
    {
     "data": {
      "text/plain": [
       "{'input': 'List Down the cities which are have rating higher than 4 and there significance are historical and religious',\n",
       " 'output': 'Delhi, Mumbai'}"
      ]
     },
     "execution_count": 23,
     "metadata": {},
     "output_type": "execute_result"
    }
   ],
   "source": [
    "from langchain_community.agent_toolkits import create_sql_agent\n",
    "from langchain.agents.agent_toolkits import SQLDatabaseToolkit\n",
    "\n",
    "agent_executor = create_sql_agent(model, db=db, toolkit=SQLDatabaseToolkit(db=db, llm=model), verbose=True)\n",
    "agent_executor.invoke({\n",
    "    \"input\" : \"List Down the cities which are have rating higher than 4 and there significance are historical and religious\"\n",
    "})"
   ]
  },
  {
   "cell_type": "code",
   "execution_count": null,
   "metadata": {},
   "outputs": [],
   "source": []
  }
 ],
 "metadata": {
  "kernelspec": {
   "display_name": "genai",
   "language": "python",
   "name": "python3"
  },
  "language_info": {
   "codemirror_mode": {
    "name": "ipython",
    "version": 3
   },
   "file_extension": ".py",
   "mimetype": "text/x-python",
   "name": "python",
   "nbconvert_exporter": "python",
   "pygments_lexer": "ipython3",
   "version": "3.11.5"
  }
 },
 "nbformat": 4,
 "nbformat_minor": 2
}
